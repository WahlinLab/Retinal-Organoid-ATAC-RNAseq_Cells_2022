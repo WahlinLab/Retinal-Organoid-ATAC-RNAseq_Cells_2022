{
 "cells": [
  {
   "cell_type": "code",
   "execution_count": 6,
   "metadata": {},
   "outputs": [],
   "source": [
    "import seaborn as sns\n",
    "import matplotlib.pyplot as plt\n",
    "import pandas as pd\n",
    "\n",
    "CSV = 'raw/D0_swarmplot.csv'"
   ]
  },
  {
   "cell_type": "code",
   "execution_count": 7,
   "metadata": {},
   "outputs": [
    {
     "data": {
      "text/html": [
       "<div>\n",
       "<style scoped>\n",
       "    .dataframe tbody tr th:only-of-type {\n",
       "        vertical-align: middle;\n",
       "    }\n",
       "\n",
       "    .dataframe tbody tr th {\n",
       "        vertical-align: top;\n",
       "    }\n",
       "\n",
       "    .dataframe thead th {\n",
       "        text-align: right;\n",
       "    }\n",
       "</style>\n",
       "<table border=\"1\" class=\"dataframe\">\n",
       "  <thead>\n",
       "    <tr style=\"text-align: right;\">\n",
       "      <th></th>\n",
       "      <th>Gene Type</th>\n",
       "      <th>Log P-value</th>\n",
       "      <th>% of Target Sequences with Motif</th>\n",
       "    </tr>\n",
       "    <tr>\n",
       "      <th>Gene</th>\n",
       "      <th></th>\n",
       "      <th></th>\n",
       "      <th></th>\n",
       "    </tr>\n",
       "  </thead>\n",
       "  <tbody>\n",
       "    <tr>\n",
       "      <th>CTCF</th>\n",
       "      <td>Zf</td>\n",
       "      <td>9549.0</td>\n",
       "      <td>10.01%</td>\n",
       "    </tr>\n",
       "    <tr>\n",
       "      <th>BORIS</th>\n",
       "      <td>Zf</td>\n",
       "      <td>5472.0</td>\n",
       "      <td>11.30%</td>\n",
       "    </tr>\n",
       "    <tr>\n",
       "      <th>Atoh1</th>\n",
       "      <td>bHLH</td>\n",
       "      <td>4878.0</td>\n",
       "      <td>32.40%</td>\n",
       "    </tr>\n",
       "    <tr>\n",
       "      <th>NeuroD1</th>\n",
       "      <td>bHLH</td>\n",
       "      <td>4681.0</td>\n",
       "      <td>25.66%</td>\n",
       "    </tr>\n",
       "    <tr>\n",
       "      <th>En1</th>\n",
       "      <td>Homeobox</td>\n",
       "      <td>4648.0</td>\n",
       "      <td>50.21%</td>\n",
       "    </tr>\n",
       "    <tr>\n",
       "      <th>...</th>\n",
       "      <td>...</td>\n",
       "      <td>...</td>\n",
       "      <td>...</td>\n",
       "    </tr>\n",
       "    <tr>\n",
       "      <th>Bach1</th>\n",
       "      <td>bZIP</td>\n",
       "      <td>592.9</td>\n",
       "      <td>1.81%</td>\n",
       "    </tr>\n",
       "    <tr>\n",
       "      <th>Zfp281</th>\n",
       "      <td>Zf</td>\n",
       "      <td>554.8</td>\n",
       "      <td>5.42%</td>\n",
       "    </tr>\n",
       "    <tr>\n",
       "      <th>NF-E2</th>\n",
       "      <td>bZIP</td>\n",
       "      <td>551.2</td>\n",
       "      <td>1.82%</td>\n",
       "    </tr>\n",
       "    <tr>\n",
       "      <th>Hoxa9</th>\n",
       "      <td>Homeobox</td>\n",
       "      <td>549.3</td>\n",
       "      <td>53.26%</td>\n",
       "    </tr>\n",
       "    <tr>\n",
       "      <th>Maz</th>\n",
       "      <td>Zf</td>\n",
       "      <td>532.0</td>\n",
       "      <td>27.15%</td>\n",
       "    </tr>\n",
       "  </tbody>\n",
       "</table>\n",
       "<p>75 rows × 3 columns</p>\n",
       "</div>"
      ],
      "text/plain": [
       "        Gene Type  Log P-value % of Target Sequences with Motif\n",
       "Gene                                                           \n",
       "CTCF           Zf       9549.0                           10.01%\n",
       "BORIS          Zf       5472.0                           11.30%\n",
       "Atoh1        bHLH       4878.0                           32.40%\n",
       "NeuroD1      bHLH       4681.0                           25.66%\n",
       "En1      Homeobox       4648.0                           50.21%\n",
       "...           ...          ...                              ...\n",
       "Bach1        bZIP        592.9                            1.81%\n",
       "Zfp281         Zf        554.8                            5.42%\n",
       "NF-E2        bZIP        551.2                            1.82%\n",
       "Hoxa9    Homeobox        549.3                           53.26%\n",
       "Maz            Zf        532.0                           27.15%\n",
       "\n",
       "[75 rows x 3 columns]"
      ]
     },
     "metadata": {},
     "output_type": "display_data"
    }
   ],
   "source": [
    "df = pd.read_csv('raw/45_swarmplot.csv')\n",
    "df.set_index('Gene', inplace=True)\n",
    "display(df)"
   ]
  },
  {
   "cell_type": "code",
   "execution_count": 8,
   "metadata": {},
   "outputs": [],
   "source": [
    "df = df.loc[df['Log P-value'] >= 500]"
   ]
  },
  {
   "cell_type": "code",
   "execution_count": 9,
   "metadata": {},
   "outputs": [
    {
     "name": "stderr",
     "output_type": "stream",
     "text": [
      "/Users/manan/environments/iRGC_env/lib/python3.10/site-packages/seaborn/categorical.py:1296: UserWarning: 15.4% of the points cannot be placed; you may want to decrease the size of the markers or use stripplot.\n",
      "  warnings.warn(msg, UserWarning)\n"
     ]
    },
    {
     "data": {
      "image/png": "[encoded data removed]",
      "text/plain": [
       "<Figure size 864x252 with 1 Axes>"
      ]
     },
     "metadata": {
      "needs_background": "light"
     },
     "output_type": "display_data"
    }
   ],
   "source": [
    "ax = sns.swarmplot(x='Gene Type', y='Log P-value', hue='Gene Type', data=df, size=6, dodge=False)\n",
    "figure = plt.gcf()\n",
    "figure.set_size_inches(12,3.5)\n",
    "\n",
    "plt.savefig('out/swarmplot.pdf', dpi=400)"
   ]
  }
 ],
 "metadata": {
  "kernelspec": {
   "display_name": "Python 3.10.2 ('iRGC_env')",
   "language": "python",
   "name": "python3"
  },
  "language_info": {
   "codemirror_mode": {
    "name": "ipython",
    "version": 3
   },
   "file_extension": ".py",
   "mimetype": "text/x-python",
   "name": "python",
   "nbconvert_exporter": "python",
   "pygments_lexer": "ipython3",
   "version": "3.10.2"
  },
  "orig_nbformat": 4,
  "vscode": {
   "interpreter": {
    "hash": "f4aca7c28cd43ad96f11f30630af9fbc00e48b015dc31f56eefe016d87584e3c"
   }
  }
 },
 "nbformat": 4,
 "nbformat_minor": 2
}
